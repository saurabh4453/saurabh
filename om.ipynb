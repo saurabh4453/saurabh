{
 "cells": [
  {
   "cell_type": "code",
   "execution_count": 1,
   "id": "0e6dde40-045a-499d-bf29-d48291d55293",
   "metadata": {},
   "outputs": [
    {
     "name": "stdout",
     "output_type": "stream",
     "text": [
      "hello saurabh\n"
     ]
    }
   ],
   "source": [
    "print('hello saurabh')"
   ]
  },
  {
   "cell_type": "markdown",
   "id": "c18671ef-ed51-4fd1-a104-d289aa9c3d9b",
   "metadata": {},
   "source": [
    "first step"
   ]
  },
  {
   "cell_type": "code",
   "execution_count": 5,
   "id": "4c841b86-3bd8-432a-9911-8ad9d95302b4",
   "metadata": {},
   "outputs": [],
   "source": [
    "a=5"
   ]
  },
  {
   "cell_type": "code",
   "execution_count": 6,
   "id": "385a404d-30ff-4eeb-b3bb-8c4abbbc0ab6",
   "metadata": {},
   "outputs": [
    {
     "data": {
      "text/plain": [
       "5"
      ]
     },
     "execution_count": 6,
     "metadata": {},
     "output_type": "execute_result"
    }
   ],
   "source": [
    "a"
   ]
  },
  {
   "cell_type": "code",
   "execution_count": 16,
   "id": "94172800-7341-41ae-b73f-faa4bd9d035c",
   "metadata": {},
   "outputs": [
    {
     "data": {
      "text/plain": [
       "int"
      ]
     },
     "execution_count": 16,
     "metadata": {},
     "output_type": "execute_result"
    }
   ],
   "source": [
    "type(5)"
   ]
  },
  {
   "cell_type": "code",
   "execution_count": 9,
   "id": "16a84754-349c-4a2b-82d3-c75612669526",
   "metadata": {},
   "outputs": [],
   "source": [
    "a=25.3"
   ]
  },
  {
   "cell_type": "code",
   "execution_count": 10,
   "id": "8b444981-76b2-41c3-9dd7-2d9509428988",
   "metadata": {},
   "outputs": [
    {
     "data": {
      "text/plain": [
       "25.3"
      ]
     },
     "execution_count": 10,
     "metadata": {},
     "output_type": "execute_result"
    }
   ],
   "source": [
    "a"
   ]
  },
  {
   "cell_type": "code",
   "execution_count": 11,
   "id": "fcf0cbef-c7e9-4be0-8072-733c71b75b88",
   "metadata": {},
   "outputs": [
    {
     "data": {
      "text/plain": [
       "float"
      ]
     },
     "execution_count": 11,
     "metadata": {},
     "output_type": "execute_result"
    }
   ],
   "source": [
    "type(a)"
   ]
  },
  {
   "cell_type": "code",
   "execution_count": 12,
   "id": "37a9ee3f-925f-483f-a316-04b009a493cf",
   "metadata": {},
   "outputs": [],
   "source": [
    "saurabh='100'"
   ]
  },
  {
   "cell_type": "code",
   "execution_count": 13,
   "id": "70116b50-610d-40d2-a112-196b418b0127",
   "metadata": {},
   "outputs": [
    {
     "data": {
      "text/plain": [
       "'100'"
      ]
     },
     "execution_count": 13,
     "metadata": {},
     "output_type": "execute_result"
    }
   ],
   "source": [
    "saurabh"
   ]
  },
  {
   "cell_type": "code",
   "execution_count": 14,
   "id": "8d910657-edb8-4459-a2c3-58aecf19f341",
   "metadata": {},
   "outputs": [
    {
     "data": {
      "text/plain": [
       "str"
      ]
     },
     "execution_count": 14,
     "metadata": {},
     "output_type": "execute_result"
    }
   ],
   "source": [
    "type(saurabh)"
   ]
  },
  {
   "cell_type": "code",
   "execution_count": 23,
   "id": "2a1ffc5a-1200-4e28-831a-c93f70b9df0d",
   "metadata": {},
   "outputs": [],
   "source": [
    "a=True"
   ]
  },
  {
   "cell_type": "code",
   "execution_count": 24,
   "id": "83da8181-c055-4b1d-9dfa-b33af975fd4a",
   "metadata": {},
   "outputs": [
    {
     "data": {
      "text/plain": [
       "True"
      ]
     },
     "execution_count": 24,
     "metadata": {},
     "output_type": "execute_result"
    }
   ],
   "source": [
    "a"
   ]
  },
  {
   "cell_type": "code",
   "execution_count": 25,
   "id": "3d854af8-a427-4ab9-8be1-4038253b3b11",
   "metadata": {},
   "outputs": [
    {
     "data": {
      "text/plain": [
       "bool"
      ]
     },
     "execution_count": 25,
     "metadata": {},
     "output_type": "execute_result"
    }
   ],
   "source": [
    "type(a)"
   ]
  },
  {
   "cell_type": "code",
   "execution_count": 26,
   "id": "b4e4dfbe-a9bc-4e11-88eb-e4ec79f689a8",
   "metadata": {},
   "outputs": [
    {
     "data": {
      "text/plain": [
       "2"
      ]
     },
     "execution_count": 26,
     "metadata": {},
     "output_type": "execute_result"
    }
   ],
   "source": [
    "True+True"
   ]
  },
  {
   "cell_type": "code",
   "execution_count": 27,
   "id": "faf14f9e-bdeb-44a5-9ad6-c47a7b23e98e",
   "metadata": {},
   "outputs": [
    {
     "data": {
      "text/plain": [
       "bool"
      ]
     },
     "execution_count": 27,
     "metadata": {},
     "output_type": "execute_result"
    }
   ],
   "source": [
    "type(True)"
   ]
  },
  {
   "cell_type": "code",
   "execution_count": 2,
   "id": "ed45b416-0338-4aeb-b8bb-57636bcadf9b",
   "metadata": {},
   "outputs": [],
   "source": [
    "c=5+4j"
   ]
  },
  {
   "cell_type": "code",
   "execution_count": 3,
   "id": "0d4c84db-60cf-4ba0-8947-eb7590babfae",
   "metadata": {},
   "outputs": [
    {
     "data": {
      "text/plain": [
       "complex"
      ]
     },
     "execution_count": 3,
     "metadata": {},
     "output_type": "execute_result"
    }
   ],
   "source": [
    "type(c)"
   ]
  },
  {
   "cell_type": "code",
   "execution_count": 6,
   "id": "d7fbff01-4285-4e0d-8402-f6d4f1d776b8",
   "metadata": {},
   "outputs": [
    {
     "data": {
      "text/plain": [
       "'\\nthis is my first class\\n'"
      ]
     },
     "execution_count": 6,
     "metadata": {},
     "output_type": "execute_result"
    }
   ],
   "source": [
    "'''\n",
    "this is my first class\n",
    "'''"
   ]
  },
  {
   "cell_type": "code",
   "execution_count": 13,
   "id": "da055d2b-92d1-4170-8389-8f31b9533afa",
   "metadata": {},
   "outputs": [],
   "source": [
    "#saurabh location kunwargoan"
   ]
  },
  {
   "cell_type": "code",
   "execution_count": 14,
   "id": "d387ed58-cd23-4bce-985f-bc0321e0fdda",
   "metadata": {},
   "outputs": [
    {
     "name": "stdout",
     "output_type": "stream",
     "text": [
      "\n",
      "Here is a list of the Python keywords.  Enter any keyword to get more help.\n",
      "\n",
      "False               class               from                or\n",
      "None                continue            global              pass\n",
      "True                def                 if                  raise\n",
      "and                 del                 import              return\n",
      "as                  elif                in                  try\n",
      "assert              else                is                  while\n",
      "async               except              lambda              with\n",
      "await               finally             nonlocal            yield\n",
      "break               for                 not                 \n",
      "\n"
     ]
    }
   ],
   "source": [
    "help('keywords')"
   ]
  },
  {
   "cell_type": "code",
   "execution_count": 16,
   "id": "2253850b-8a64-4f9f-8260-1889acfe6335",
   "metadata": {},
   "outputs": [
    {
     "name": "stdout",
     "output_type": "stream",
     "text": [
      "greater\n"
     ]
    }
   ],
   "source": [
    "if 5>3:\n",
    "    print('greater')"
   ]
  },
  {
   "cell_type": "code",
   "execution_count": 18,
   "id": "45018630-b616-4693-8697-793c878607f4",
   "metadata": {},
   "outputs": [
    {
     "data": {
      "text/plain": [
       "15"
      ]
     },
     "execution_count": 18,
     "metadata": {},
     "output_type": "execute_result"
    }
   ],
   "source": [
    "#this is expression \n",
    "a=10\n",
    "b=5\n",
    "a+b"
   ]
  },
  {
   "cell_type": "code",
   "execution_count": 19,
   "id": "af829cc7-9fe7-445e-9d41-36164e915bf7",
   "metadata": {},
   "outputs": [
    {
     "data": {
      "text/plain": [
       "10"
      ]
     },
     "execution_count": 19,
     "metadata": {},
     "output_type": "execute_result"
    }
   ],
   "source": [
    "a"
   ]
  },
  {
   "cell_type": "code",
   "execution_count": 6,
   "id": "ed7c0885-7613-41e1-8ba9-5c37d3a2b28b",
   "metadata": {},
   "outputs": [
    {
     "name": "stdout",
     "output_type": "stream",
     "text": [
      "graeter\n"
     ]
    }
   ],
   "source": [
    "#indentation\n",
    "if 4>2:\n",
    "    print('graeter')"
   ]
  },
  {
   "cell_type": "code",
   "execution_count": 7,
   "id": "8b548e3b-f580-4e6b-b87d-2dc9d3b81389",
   "metadata": {},
   "outputs": [],
   "source": [
    "#statement\n",
    "a=5"
   ]
  },
  {
   "cell_type": "code",
   "execution_count": 8,
   "id": "4e178755-17f9-461b-8c6b-6b50f5b05986",
   "metadata": {},
   "outputs": [
    {
     "data": {
      "text/plain": [
       "5"
      ]
     },
     "execution_count": 8,
     "metadata": {},
     "output_type": "execute_result"
    }
   ],
   "source": [
    "a"
   ]
  },
  {
   "cell_type": "code",
   "execution_count": 9,
   "id": "2372c670-51be-44eb-b41e-b3f259060e85",
   "metadata": {},
   "outputs": [
    {
     "data": {
      "text/plain": [
       "125"
      ]
     },
     "execution_count": 9,
     "metadata": {},
     "output_type": "execute_result"
    }
   ],
   "source": [
    "#expression\n",
    "a=5\n",
    "b=25\n",
    "a*b"
   ]
  },
  {
   "cell_type": "code",
   "execution_count": 10,
   "id": "166b2951-d593-4139-b55a-defde9849b0d",
   "metadata": {},
   "outputs": [
    {
     "data": {
      "text/plain": [
       "5"
      ]
     },
     "execution_count": 10,
     "metadata": {},
     "output_type": "execute_result"
    }
   ],
   "source": [
    "a"
   ]
  },
  {
   "cell_type": "code",
   "execution_count": 11,
   "id": "bb07c58d-65da-4708-9a26-6c57fbd9ee72",
   "metadata": {},
   "outputs": [
    {
     "data": {
      "text/plain": [
       "25"
      ]
     },
     "execution_count": 11,
     "metadata": {},
     "output_type": "execute_result"
    }
   ],
   "source": [
    "b"
   ]
  },
  {
   "cell_type": "code",
   "execution_count": 18,
   "id": "48768861-5444-489c-b03b-ebb487feefce",
   "metadata": {},
   "outputs": [
    {
     "name": "stdin",
     "output_type": "stream",
     "text": [
      "pelase enter your name: 1\n"
     ]
    }
   ],
   "source": [
    "# standard input and output\n",
    "name=input('pelase enter your name:')"
   ]
  },
  {
   "cell_type": "code",
   "execution_count": 19,
   "id": "cf68bd63-31db-40f6-b6cb-78afa26de1fd",
   "metadata": {},
   "outputs": [
    {
     "data": {
      "text/plain": [
       "'1'"
      ]
     },
     "execution_count": 19,
     "metadata": {},
     "output_type": "execute_result"
    }
   ],
   "source": [
    "name"
   ]
  },
  {
   "cell_type": "code",
   "execution_count": 20,
   "id": "5c20d83f-0145-4ca7-914f-eb71b7c28a39",
   "metadata": {},
   "outputs": [
    {
     "data": {
      "text/plain": [
       "str"
      ]
     },
     "execution_count": 20,
     "metadata": {},
     "output_type": "execute_result"
    }
   ],
   "source": [
    "type('name')"
   ]
  },
  {
   "cell_type": "code",
   "execution_count": 21,
   "id": "8feb660f-f130-4da9-8451-69d0c1c38bdc",
   "metadata": {},
   "outputs": [
    {
     "data": {
      "text/plain": [
       "1"
      ]
     },
     "execution_count": 21,
     "metadata": {},
     "output_type": "execute_result"
    }
   ],
   "source": [
    "int(name)"
   ]
  },
  {
   "cell_type": "code",
   "execution_count": 23,
   "id": "c2178e33-b1df-436c-b69b-ab951bad5693",
   "metadata": {},
   "outputs": [
    {
     "data": {
      "text/plain": [
       "str"
      ]
     },
     "execution_count": 23,
     "metadata": {},
     "output_type": "execute_result"
    }
   ],
   "source": [
    "s='25'\n",
    "type(s)"
   ]
  },
  {
   "cell_type": "code",
   "execution_count": 24,
   "id": "20b3a34b-e611-487d-af0b-d930d59e013e",
   "metadata": {},
   "outputs": [
    {
     "data": {
      "text/plain": [
       "25"
      ]
     },
     "execution_count": 24,
     "metadata": {},
     "output_type": "execute_result"
    }
   ],
   "source": [
    "int(s)"
   ]
  },
  {
   "cell_type": "code",
   "execution_count": 25,
   "id": "2790d7e8-c095-495d-8d8d-dfa28a9ecd7b",
   "metadata": {},
   "outputs": [
    {
     "data": {
      "text/plain": [
       "True"
      ]
     },
     "execution_count": 25,
     "metadata": {},
     "output_type": "execute_result"
    }
   ],
   "source": [
    "bool(25)"
   ]
  },
  {
   "cell_type": "code",
   "execution_count": 26,
   "id": "e32b53de-0d33-413c-8a0b-4972ff49ab47",
   "metadata": {},
   "outputs": [
    {
     "data": {
      "text/plain": [
       "True"
      ]
     },
     "execution_count": 26,
     "metadata": {},
     "output_type": "execute_result"
    }
   ],
   "source": [
    "bool(s)"
   ]
  },
  {
   "cell_type": "code",
   "execution_count": 3,
   "id": "b06cbd9a-a57e-464d-849d-ffb654fbad9b",
   "metadata": {},
   "outputs": [],
   "source": [
    "s='saurabh'\n"
   ]
  },
  {
   "cell_type": "code",
   "execution_count": 5,
   "id": "cb74dbf9-164e-4194-b591-c1debba6f3e7",
   "metadata": {},
   "outputs": [
    {
     "data": {
      "text/plain": [
       "'b'"
      ]
     },
     "execution_count": 5,
     "metadata": {},
     "output_type": "execute_result"
    }
   ],
   "source": [
    "s[5]"
   ]
  },
  {
   "cell_type": "code",
   "execution_count": 6,
   "id": "874218ed-e8b8-4657-b40f-3239617c170b",
   "metadata": {},
   "outputs": [
    {
     "data": {
      "text/plain": [
       "'r'"
      ]
     },
     "execution_count": 6,
     "metadata": {},
     "output_type": "execute_result"
    }
   ],
   "source": [
    "s[-4]"
   ]
  },
  {
   "cell_type": "code",
   "execution_count": 26,
   "id": "8d4d72f3-ecc6-44cd-a06b-e1820514f3c4",
   "metadata": {},
   "outputs": [],
   "source": [
    "#another type of conatainer \n",
    "list_conatiner=[11,True,2.5,'saurabh']"
   ]
  },
  {
   "cell_type": "code",
   "execution_count": 25,
   "id": "dc40e8f6-a12b-4cb5-b479-f0c864146e1f",
   "metadata": {},
   "outputs": [
    {
     "data": {
      "text/plain": [
       "11"
      ]
     },
     "execution_count": 25,
     "metadata": {},
     "output_type": "execute_result"
    }
   ],
   "source": [
    "11"
   ]
  },
  {
   "cell_type": "code",
   "execution_count": 10,
   "id": "1989e893-10ef-434a-9f2a-aaa6092242f4",
   "metadata": {},
   "outputs": [
    {
     "data": {
      "text/plain": [
       "str"
      ]
     },
     "execution_count": 10,
     "metadata": {},
     "output_type": "execute_result"
    }
   ],
   "source": [
    "type('saurabh')"
   ]
  },
  {
   "cell_type": "code",
   "execution_count": 13,
   "id": "69d2e600-2f7f-4b28-99c6-174842763a5e",
   "metadata": {},
   "outputs": [
    {
     "data": {
      "text/plain": [
       "11"
      ]
     },
     "execution_count": 13,
     "metadata": {},
     "output_type": "execute_result"
    }
   ],
   "source": [
    "int(11)"
   ]
  },
  {
   "cell_type": "code",
   "execution_count": 27,
   "id": "05710d7c-adfa-4a3c-bb65-482744daf86c",
   "metadata": {},
   "outputs": [
    {
     "data": {
      "text/plain": [
       "str"
      ]
     },
     "execution_count": 27,
     "metadata": {},
     "output_type": "execute_result"
    }
   ],
   "source": [
    "type('list_conatiner')"
   ]
  },
  {
   "cell_type": "code",
   "execution_count": 28,
   "id": "480ff64b-6f28-487f-983d-ea2744dfbc33",
   "metadata": {},
   "outputs": [
    {
     "data": {
      "text/plain": [
       "2.5"
      ]
     },
     "execution_count": 28,
     "metadata": {},
     "output_type": "execute_result"
    }
   ],
   "source": [
    "list_conatiner[2]"
   ]
  },
  {
   "cell_type": "code",
   "execution_count": 30,
   "id": "bee808bf-6c9b-4147-a8ec-1661df6a0738",
   "metadata": {},
   "outputs": [],
   "source": [
    "list_conatiner[3]='sumit'"
   ]
  },
  {
   "cell_type": "code",
   "execution_count": 31,
   "id": "0d3d5c55-6b58-4435-bf06-005c5232fdb3",
   "metadata": {},
   "outputs": [
    {
     "data": {
      "text/plain": [
       "[11, True, 2.5, 'sumit']"
      ]
     },
     "execution_count": 31,
     "metadata": {},
     "output_type": "execute_result"
    }
   ],
   "source": [
    "list_conatiner"
   ]
  },
  {
   "cell_type": "code",
   "execution_count": 34,
   "id": "8fafc82f-5e7e-4e02-a366-9d50ff860e59",
   "metadata": {},
   "outputs": [],
   "source": [
    "b='saurabh'\n"
   ]
  },
  {
   "cell_type": "code",
   "execution_count": 37,
   "id": "9dc54174-af6e-47ce-b32a-cc2f8bf266db",
   "metadata": {},
   "outputs": [
    {
     "data": {
      "text/plain": [
       "str"
      ]
     },
     "execution_count": 37,
     "metadata": {},
     "output_type": "execute_result"
    }
   ],
   "source": [
    "type('saurabh')"
   ]
  },
  {
   "cell_type": "code",
   "execution_count": 3,
   "id": "b976917f-82af-4dae-973a-d721f4931a29",
   "metadata": {},
   "outputs": [],
   "source": [
    "b=[3]"
   ]
  },
  {
   "cell_type": "code",
   "execution_count": 4,
   "id": "67f1b13e-294f-48e6-9438-4f066cbb1699",
   "metadata": {},
   "outputs": [
    {
     "data": {
      "text/plain": [
       "[3]"
      ]
     },
     "execution_count": 4,
     "metadata": {},
     "output_type": "execute_result"
    }
   ],
   "source": [
    "b"
   ]
  },
  {
   "cell_type": "code",
   "execution_count": 1,
   "id": "1de0f7e5-b3bf-45dc-b169-802a506deef2",
   "metadata": {},
   "outputs": [
    {
     "data": {
      "text/plain": [
       "4"
      ]
     },
     "execution_count": 1,
     "metadata": {},
     "output_type": "execute_result"
    }
   ],
   "source": [
    "2+2"
   ]
  },
  {
   "cell_type": "code",
   "execution_count": 2,
   "id": "f8265a79-f8ab-431d-b13c-46b73d1bd619",
   "metadata": {},
   "outputs": [],
   "source": [
    "add=1+2"
   ]
  },
  {
   "cell_type": "code",
   "execution_count": 3,
   "id": "3f8d1ee7-b20a-4d5d-9829-9d748c27abea",
   "metadata": {},
   "outputs": [
    {
     "data": {
      "text/plain": [
       "3"
      ]
     },
     "execution_count": 3,
     "metadata": {},
     "output_type": "execute_result"
    }
   ],
   "source": [
    "add"
   ]
  },
  {
   "cell_type": "code",
   "execution_count": 4,
   "id": "929015d6-1c04-4233-91c5-61310c52676a",
   "metadata": {},
   "outputs": [
    {
     "data": {
      "text/plain": [
       "3.3333333333333335"
      ]
     },
     "execution_count": 4,
     "metadata": {},
     "output_type": "execute_result"
    }
   ],
   "source": [
    "20/6"
   ]
  },
  {
   "cell_type": "code",
   "execution_count": 9,
   "id": "29ca6a99-d3b1-4d76-96d7-a74455460578",
   "metadata": {},
   "outputs": [
    {
     "data": {
      "text/plain": [
       "1024"
      ]
     },
     "execution_count": 9,
     "metadata": {},
     "output_type": "execute_result"
    }
   ],
   "source": [
    "2**10"
   ]
  },
  {
   "cell_type": "code",
   "execution_count": 10,
   "id": "cbf20c71-8d29-4b1e-a112-3e1b754a8688",
   "metadata": {},
   "outputs": [
    {
     "data": {
      "text/plain": [
       "3"
      ]
     },
     "execution_count": 10,
     "metadata": {},
     "output_type": "execute_result"
    }
   ],
   "source": [
    "22//6"
   ]
  },
  {
   "cell_type": "code",
   "execution_count": 11,
   "id": "29b6ce7b-f65d-4180-a1e7-3464f52bac6d",
   "metadata": {},
   "outputs": [
    {
     "data": {
      "text/plain": [
       "3.6666666666666665"
      ]
     },
     "execution_count": 11,
     "metadata": {},
     "output_type": "execute_result"
    }
   ],
   "source": [
    "22/6"
   ]
  },
  {
   "cell_type": "code",
   "execution_count": 17,
   "id": "7d62aa2f-0704-40bc-ad6d-e61381a20f63",
   "metadata": {},
   "outputs": [
    {
     "data": {
      "text/plain": [
       "True"
      ]
     },
     "execution_count": 17,
     "metadata": {},
     "output_type": "execute_result"
    }
   ],
   "source": [
    "22 != 2"
   ]
  },
  {
   "cell_type": "code",
   "execution_count": 18,
   "id": "a7dcdfdc-2a72-47e4-a258-5ddb744c2043",
   "metadata": {},
   "outputs": [
    {
     "data": {
      "text/plain": [
       "4"
      ]
     },
     "execution_count": 18,
     "metadata": {},
     "output_type": "execute_result"
    }
   ],
   "source": [
    "25//6"
   ]
  },
  {
   "cell_type": "code",
   "execution_count": 19,
   "id": "79751afc-891f-42b3-9e94-5fd1868d8097",
   "metadata": {},
   "outputs": [
    {
     "data": {
      "text/plain": [
       "4.166666666666667"
      ]
     },
     "execution_count": 19,
     "metadata": {},
     "output_type": "execute_result"
    }
   ],
   "source": [
    "25/6"
   ]
  },
  {
   "cell_type": "code",
   "execution_count": 20,
   "id": "dca4055e-0007-4575-8167-a9ca9b7897d2",
   "metadata": {},
   "outputs": [
    {
     "data": {
      "text/plain": [
       "True"
      ]
     },
     "execution_count": 20,
     "metadata": {},
     "output_type": "execute_result"
    }
   ],
   "source": [
    "80!=2"
   ]
  },
  {
   "cell_type": "code",
   "execution_count": 23,
   "id": "9c51a340-949a-41a7-8005-caf318ef503f",
   "metadata": {},
   "outputs": [
    {
     "data": {
      "text/plain": [
       "True"
      ]
     },
     "execution_count": 23,
     "metadata": {},
     "output_type": "execute_result"
    }
   ],
   "source": [
    "22<=22"
   ]
  },
  {
   "cell_type": "code",
   "execution_count": 28,
   "id": "1674b128-a501-4817-b422-27052f7e3d1f",
   "metadata": {},
   "outputs": [
    {
     "data": {
      "text/plain": [
       "False"
      ]
     },
     "execution_count": 28,
     "metadata": {},
     "output_type": "execute_result"
    }
   ],
   "source": [
    "22>23"
   ]
  },
  {
   "cell_type": "code",
   "execution_count": 32,
   "id": "c1c5cb0b-81a5-4911-94db-6eac7b002e44",
   "metadata": {},
   "outputs": [
    {
     "data": {
      "text/plain": [
       "True"
      ]
     },
     "execution_count": 32,
     "metadata": {},
     "output_type": "execute_result"
    }
   ],
   "source": [
    "True and True"
   ]
  },
  {
   "cell_type": "code",
   "execution_count": 34,
   "id": "0c4493e9-7549-4a2a-aaac-91674e59b586",
   "metadata": {},
   "outputs": [
    {
     "data": {
      "text/plain": [
       "False"
      ]
     },
     "execution_count": 34,
     "metadata": {},
     "output_type": "execute_result"
    }
   ],
   "source": [
    "True and False"
   ]
  },
  {
   "cell_type": "code",
   "execution_count": 37,
   "id": "e9391e9b-32d5-4096-85f3-07304b98d1bb",
   "metadata": {},
   "outputs": [
    {
     "data": {
      "text/plain": [
       "True"
      ]
     },
     "execution_count": 37,
     "metadata": {},
     "output_type": "execute_result"
    }
   ],
   "source": [
    "True or false"
   ]
  },
  {
   "cell_type": "code",
   "execution_count": 40,
   "id": "1e009573-5b75-4fe8-a145-e61503fe69fb",
   "metadata": {},
   "outputs": [
    {
     "data": {
      "text/plain": [
       "False"
      ]
     },
     "execution_count": 40,
     "metadata": {},
     "output_type": "execute_result"
    }
   ],
   "source": [
    "False or False"
   ]
  },
  {
   "cell_type": "code",
   "execution_count": 43,
   "id": "3aa941c8-4d61-42c2-bcc0-d51c8068a331",
   "metadata": {},
   "outputs": [
    {
     "data": {
      "text/plain": [
       "True"
      ]
     },
     "execution_count": 43,
     "metadata": {},
     "output_type": "execute_result"
    }
   ],
   "source": [
    "True or True"
   ]
  },
  {
   "cell_type": "code",
   "execution_count": 45,
   "id": "5bee516b-17f7-42d9-8690-90c2f7f25b6b",
   "metadata": {},
   "outputs": [
    {
     "data": {
      "text/plain": [
       "False"
      ]
     },
     "execution_count": 45,
     "metadata": {},
     "output_type": "execute_result"
    }
   ],
   "source": [
    "not True"
   ]
  },
  {
   "cell_type": "code",
   "execution_count": 46,
   "id": "1041e421-f091-40ee-8985-21e2e17432a9",
   "metadata": {},
   "outputs": [
    {
     "data": {
      "text/plain": [
       "False"
      ]
     },
     "execution_count": 46,
     "metadata": {},
     "output_type": "execute_result"
    }
   ],
   "source": [
    "not True"
   ]
  },
  {
   "cell_type": "code",
   "execution_count": 47,
   "id": "f8a32e92-8752-46b1-808e-740805c98220",
   "metadata": {},
   "outputs": [],
   "source": [
    "a=25"
   ]
  },
  {
   "cell_type": "code",
   "execution_count": 48,
   "id": "b1988438-76b0-468a-b0ae-f8af7942ce0f",
   "metadata": {},
   "outputs": [
    {
     "data": {
      "text/plain": [
       "25"
      ]
     },
     "execution_count": 48,
     "metadata": {},
     "output_type": "execute_result"
    }
   ],
   "source": [
    "a"
   ]
  },
  {
   "cell_type": "code",
   "execution_count": 49,
   "id": "a0f48dee-429b-4148-b21c-1c5c7c1719bf",
   "metadata": {
    "tags": []
   },
   "outputs": [
    {
     "data": {
      "text/plain": [
       "45"
      ]
     },
     "execution_count": 49,
     "metadata": {},
     "output_type": "execute_result"
    }
   ],
   "source": [
    "a+20"
   ]
  },
  {
   "cell_type": "code",
   "execution_count": 50,
   "id": "bee8b783-3996-432c-8bf3-73becba50c24",
   "metadata": {},
   "outputs": [],
   "source": [
    "a=a+20"
   ]
  },
  {
   "cell_type": "code",
   "execution_count": 51,
   "id": "d4e45b32-d12d-44ae-b6d6-d45dfe3cfeee",
   "metadata": {},
   "outputs": [
    {
     "data": {
      "text/plain": [
       "45"
      ]
     },
     "execution_count": 51,
     "metadata": {},
     "output_type": "execute_result"
    }
   ],
   "source": [
    "a"
   ]
  },
  {
   "cell_type": "code",
   "execution_count": 52,
   "id": "171fd8f2-4720-492e-a120-8c57c6a32c3d",
   "metadata": {},
   "outputs": [],
   "source": [
    "a+=30"
   ]
  },
  {
   "cell_type": "code",
   "execution_count": 53,
   "id": "5e2e3ec1-0a07-4dd7-b838-1d860368214b",
   "metadata": {},
   "outputs": [
    {
     "data": {
      "text/plain": [
       "75"
      ]
     },
     "execution_count": 53,
     "metadata": {},
     "output_type": "execute_result"
    }
   ],
   "source": [
    "a"
   ]
  },
  {
   "cell_type": "code",
   "execution_count": 55,
   "id": "4170de1a-694d-4106-ac13-c7507bd68f51",
   "metadata": {},
   "outputs": [],
   "source": [
    "a*=20"
   ]
  },
  {
   "cell_type": "code",
   "execution_count": 56,
   "id": "03b6b2eb-87e0-4776-955b-33165e7b5e7c",
   "metadata": {},
   "outputs": [
    {
     "data": {
      "text/plain": [
       "1500"
      ]
     },
     "execution_count": 56,
     "metadata": {},
     "output_type": "execute_result"
    }
   ],
   "source": [
    "a"
   ]
  },
  {
   "cell_type": "code",
   "execution_count": 57,
   "id": "88e2e46a-0247-47eb-b64c-4b5bd34b3059",
   "metadata": {},
   "outputs": [
    {
     "data": {
      "text/plain": [
       "1500"
      ]
     },
     "execution_count": 57,
     "metadata": {},
     "output_type": "execute_result"
    }
   ],
   "source": [
    "a"
   ]
  },
  {
   "cell_type": "code",
   "execution_count": 59,
   "id": "eb012e53-8e8f-4384-8f42-c39dc7d8d0ec",
   "metadata": {},
   "outputs": [],
   "source": [
    "a/=10"
   ]
  },
  {
   "cell_type": "code",
   "execution_count": 60,
   "id": "1f5d808f-8a5f-456a-9eb0-f7253a9ed5ea",
   "metadata": {},
   "outputs": [
    {
     "data": {
      "text/plain": [
       "150.0"
      ]
     },
     "execution_count": 60,
     "metadata": {},
     "output_type": "execute_result"
    }
   ],
   "source": [
    "a"
   ]
  },
  {
   "cell_type": "code",
   "execution_count": 61,
   "id": "d6461186-7b90-4bd7-b1ae-a8007a75fc22",
   "metadata": {},
   "outputs": [
    {
     "data": {
      "text/plain": [
       "150.0"
      ]
     },
     "execution_count": 61,
     "metadata": {},
     "output_type": "execute_result"
    }
   ],
   "source": [
    "a"
   ]
  },
  {
   "cell_type": "code",
   "execution_count": 63,
   "id": "67ba38c2-0142-4198-9d97-79ea1a8ab2bf",
   "metadata": {},
   "outputs": [
    {
     "data": {
      "text/plain": [
       "False"
      ]
     },
     "execution_count": 63,
     "metadata": {},
     "output_type": "execute_result"
    }
   ],
   "source": [
    "#membershipe opertor\n",
    "'k'in 'saurabh'"
   ]
  },
  {
   "cell_type": "code",
   "execution_count": 64,
   "id": "319a6a41-a9c8-4032-9751-6d076c736b9d",
   "metadata": {},
   "outputs": [
    {
     "data": {
      "text/plain": [
       "True"
      ]
     },
     "execution_count": 64,
     "metadata": {},
     "output_type": "execute_result"
    }
   ],
   "source": [
    "'k'not in 'saurabh'"
   ]
  },
  {
   "cell_type": "code",
   "execution_count": 66,
   "id": "8b945735-d6ad-4be5-a5c4-5058995da9eb",
   "metadata": {},
   "outputs": [],
   "source": [
    "a=['saurabh''sumit''v','b']"
   ]
  },
  {
   "cell_type": "code",
   "execution_count": 71,
   "id": "79767964-f555-4e6d-b260-c017dc313640",
   "metadata": {},
   "outputs": [
    {
     "data": {
      "text/plain": [
       "True"
      ]
     },
     "execution_count": 71,
     "metadata": {},
     "output_type": "execute_result"
    }
   ],
   "source": [
    "'b' in a"
   ]
  },
  {
   "cell_type": "code",
   "execution_count": 67,
   "id": "0ae51ecc-c615-4654-905e-22d1ac91cb25",
   "metadata": {},
   "outputs": [
    {
     "data": {
      "text/plain": [
       "False"
      ]
     },
     "execution_count": 67,
     "metadata": {},
     "output_type": "execute_result"
    }
   ],
   "source": []
  },
  {
   "cell_type": "code",
   "execution_count": 72,
   "id": "4767665b-2759-4943-acf8-6ac167af4519",
   "metadata": {},
   "outputs": [
    {
     "data": {
      "text/plain": [
       "['saurabhsumitv', 'b']"
      ]
     },
     "execution_count": 72,
     "metadata": {},
     "output_type": "execute_result"
    }
   ],
   "source": [
    "a"
   ]
  },
  {
   "cell_type": "code",
   "execution_count": 73,
   "id": "a1dfb5ac-0149-41e3-b2d8-5fe0d276d1ff",
   "metadata": {},
   "outputs": [],
   "source": [
    "a=2\n",
    "b=3"
   ]
  },
  {
   "cell_type": "code",
   "execution_count": 74,
   "id": "a5f38eb6-ce47-49ca-bd92-8dd519f94258",
   "metadata": {},
   "outputs": [
    {
     "data": {
      "text/plain": [
       "False"
      ]
     },
     "execution_count": 74,
     "metadata": {},
     "output_type": "execute_result"
    }
   ],
   "source": [
    "b is a"
   ]
  },
  {
   "cell_type": "code",
   "execution_count": 75,
   "id": "638f66d2-2d9f-47b9-ad74-30536ccbe731",
   "metadata": {},
   "outputs": [],
   "source": [
    "a=b"
   ]
  },
  {
   "cell_type": "code",
   "execution_count": 76,
   "id": "b8223bd0-47ac-430a-83fd-ebf071f198ac",
   "metadata": {},
   "outputs": [
    {
     "data": {
      "text/plain": [
       "True"
      ]
     },
     "execution_count": 76,
     "metadata": {},
     "output_type": "execute_result"
    }
   ],
   "source": [
    "a is b"
   ]
  },
  {
   "cell_type": "code",
   "execution_count": 77,
   "id": "edfba883-930c-49b2-b8dc-74dc455b7e2e",
   "metadata": {},
   "outputs": [
    {
     "data": {
      "text/plain": [
       "True"
      ]
     },
     "execution_count": 77,
     "metadata": {},
     "output_type": "execute_result"
    }
   ],
   "source": [
    "b is a"
   ]
  },
  {
   "cell_type": "code",
   "execution_count": 78,
   "id": "1b2c533d-809e-4c79-ab06-84c64de19d63",
   "metadata": {},
   "outputs": [
    {
     "data": {
      "text/plain": [
       "2"
      ]
     },
     "execution_count": 78,
     "metadata": {},
     "output_type": "execute_result"
    }
   ],
   "source": [
    "2&3"
   ]
  },
  {
   "cell_type": "code",
   "execution_count": 79,
   "id": "63fc814a-0f3e-400b-a6d4-191c7b6a0a67",
   "metadata": {},
   "outputs": [
    {
     "data": {
      "text/plain": [
       "'0b10'"
      ]
     },
     "execution_count": 79,
     "metadata": {},
     "output_type": "execute_result"
    }
   ],
   "source": [
    "bin(2)"
   ]
  },
  {
   "cell_type": "code",
   "execution_count": 80,
   "id": "c00e4368-fe3d-400e-8d13-1759184d6bb1",
   "metadata": {},
   "outputs": [
    {
     "data": {
      "text/plain": [
       "0"
      ]
     },
     "execution_count": 80,
     "metadata": {},
     "output_type": "execute_result"
    }
   ],
   "source": [
    "10&5"
   ]
  },
  {
   "cell_type": "code",
   "execution_count": 81,
   "id": "442a3f51-ea28-4f8d-8794-ae4ba767e34f",
   "metadata": {},
   "outputs": [
    {
     "data": {
      "text/plain": [
       "'0b1010'"
      ]
     },
     "execution_count": 81,
     "metadata": {},
     "output_type": "execute_result"
    }
   ],
   "source": [
    "bin(10)"
   ]
  },
  {
   "cell_type": "code",
   "execution_count": 83,
   "id": "7d72477c-2ee0-4d27-a7ba-5b6e529a7082",
   "metadata": {},
   "outputs": [
    {
     "data": {
      "text/plain": [
       "-101"
      ]
     },
     "execution_count": 83,
     "metadata": {},
     "output_type": "execute_result"
    }
   ],
   "source": [
    "~100"
   ]
  },
  {
   "cell_type": "code",
   "execution_count": 86,
   "id": "93e1613f-01ab-4eff-b1a3-f0944b03ed04",
   "metadata": {},
   "outputs": [
    {
     "data": {
      "text/plain": [
       "0"
      ]
     },
     "execution_count": 86,
     "metadata": {},
     "output_type": "execute_result"
    }
   ],
   "source": [
    "5^5"
   ]
  },
  {
   "cell_type": "code",
   "execution_count": 87,
   "id": "ebf22833-e43f-453c-90e4-1d22019a165c",
   "metadata": {},
   "outputs": [
    {
     "data": {
      "text/plain": [
       "'0b101'"
      ]
     },
     "execution_count": 87,
     "metadata": {},
     "output_type": "execute_result"
    }
   ],
   "source": [
    "bin(5)"
   ]
  },
  {
   "cell_type": "code",
   "execution_count": 88,
   "id": "322fb5a6-80ec-4548-9e62-588865a1ab3b",
   "metadata": {},
   "outputs": [
    {
     "data": {
      "text/plain": [
       "320"
      ]
     },
     "execution_count": 88,
     "metadata": {},
     "output_type": "execute_result"
    }
   ],
   "source": [
    "5<<6"
   ]
  },
  {
   "cell_type": "code",
   "execution_count": 89,
   "id": "b9454716-a207-44fa-a3fb-1147d6821edf",
   "metadata": {},
   "outputs": [
    {
     "data": {
      "text/plain": [
       "'0b101000000'"
      ]
     },
     "execution_count": 89,
     "metadata": {},
     "output_type": "execute_result"
    }
   ],
   "source": [
    "bin(320)"
   ]
  },
  {
   "cell_type": "code",
   "execution_count": 12,
   "id": "6296d7e3-e9cf-4f31-a019-0f4a671eac47",
   "metadata": {},
   "outputs": [],
   "source": [
    "a=5.2\n",
    "b=int(5.2)"
   ]
  },
  {
   "cell_type": "code",
   "execution_count": 14,
   "id": "4fd085e5-ef5c-4f8d-8bcd-356cb645f713",
   "metadata": {},
   "outputs": [
    {
     "data": {
      "text/plain": [
       "int"
      ]
     },
     "execution_count": 14,
     "metadata": {},
     "output_type": "execute_result"
    }
   ],
   "source": [
    "type (b)"
   ]
  },
  {
   "cell_type": "code",
   "execution_count": 16,
   "id": "244f08b8-793a-49bd-a24e-7907ae6b3792",
   "metadata": {},
   "outputs": [],
   "source": [
    "a=5\n"
   ]
  },
  {
   "cell_type": "code",
   "execution_count": 26,
   "id": "00945651-269c-4343-ba5b-72bbb49cb3f0",
   "metadata": {},
   "outputs": [
    {
     "data": {
      "text/plain": [
       "int"
      ]
     },
     "execution_count": 26,
     "metadata": {},
     "output_type": "execute_result"
    }
   ],
   "source": [
    "a\n",
    "type(a)"
   ]
  },
  {
   "cell_type": "code",
   "execution_count": 63,
   "id": "c4cd4689-5182-47c1-b41b-0419d61b5470",
   "metadata": {},
   "outputs": [],
   "source": [
    "b='33'\n",
    "c=int(b)"
   ]
  },
  {
   "cell_type": "code",
   "execution_count": 65,
   "id": "cc95d92f-4852-4a6f-ba26-1403bed7952d",
   "metadata": {},
   "outputs": [
    {
     "data": {
      "text/plain": [
       "int"
      ]
     },
     "execution_count": 65,
     "metadata": {},
     "output_type": "execute_result"
    }
   ],
   "source": [
    "type(c)"
   ]
  },
  {
   "cell_type": "code",
   "execution_count": 67,
   "id": "c96f9419-28d8-4a7a-8a9d-f41ec9d0d7c0",
   "metadata": {},
   "outputs": [
    {
     "data": {
      "text/plain": [
       "38"
      ]
     },
     "execution_count": 67,
     "metadata": {},
     "output_type": "execute_result"
    }
   ],
   "source": [
    "a+c"
   ]
  },
  {
   "cell_type": "code",
   "execution_count": 5,
   "id": "c8b74fad-77b6-42d0-ad1e-88f703445858",
   "metadata": {},
   "outputs": [
    {
     "data": {
      "text/plain": [
       "5"
      ]
     },
     "execution_count": 5,
     "metadata": {},
     "output_type": "execute_result"
    }
   ],
   "source": [
    "a='5'\n",
    "int(a)"
   ]
  },
  {
   "cell_type": "code",
   "execution_count": 3,
   "id": "df902841-bfb1-48d3-9eb6-a0b65a140918",
   "metadata": {},
   "outputs": [
    {
     "data": {
      "text/plain": [
       "int"
      ]
     },
     "execution_count": 3,
     "metadata": {},
     "output_type": "execute_result"
    }
   ],
   "source": [
    "type(b)"
   ]
  },
  {
   "cell_type": "code",
   "execution_count": 4,
   "id": "3791625e-797d-4e77-ad93-3016cd909e3f",
   "metadata": {},
   "outputs": [
    {
     "data": {
      "text/plain": [
       "'5'"
      ]
     },
     "execution_count": 4,
     "metadata": {},
     "output_type": "execute_result"
    }
   ],
   "source": [
    "a"
   ]
  },
  {
   "cell_type": "code",
   "execution_count": 6,
   "id": "600ee5be-4e43-4a04-89f9-2298df4a7f25",
   "metadata": {},
   "outputs": [],
   "source": [
    "b=55.5\n",
    "c=float(b)"
   ]
  },
  {
   "cell_type": "code",
   "execution_count": 7,
   "id": "36b15112-9d2d-4d3f-951a-05631e7c4582",
   "metadata": {},
   "outputs": [
    {
     "data": {
      "text/plain": [
       "55.5"
      ]
     },
     "execution_count": 7,
     "metadata": {},
     "output_type": "execute_result"
    }
   ],
   "source": [
    "b"
   ]
  },
  {
   "cell_type": "code",
   "execution_count": 8,
   "id": "4891b415-ed81-4d92-9960-54575c53968f",
   "metadata": {},
   "outputs": [
    {
     "data": {
      "text/plain": [
       "float"
      ]
     },
     "execution_count": 8,
     "metadata": {},
     "output_type": "execute_result"
    }
   ],
   "source": [
    "type(c) "
   ]
  },
  {
   "cell_type": "code",
   "execution_count": 13,
   "id": "db98dec8-e850-4da3-90d4-b2222ce255b5",
   "metadata": {},
   "outputs": [],
   "source": [
    "temp=30\n",
    "if temp >35:\n",
    "    print('i will plays cricket' )\n",
    "    "
   ]
  },
  {
   "cell_type": "code",
   "execution_count": 10,
   "id": "5736cc4b-c058-4ee7-9b7d-bf074cd45ab7",
   "metadata": {},
   "outputs": [
    {
     "ename": "SyntaxError",
     "evalue": "invalid syntax (1091656457.py, line 1)",
     "output_type": "error",
     "traceback": [
      "\u001b[0;36m  Cell \u001b[0;32mIn[10], line 1\u001b[0;36m\u001b[0m\n\u001b[0;31m    do work = true\u001b[0m\n\u001b[0m       ^\u001b[0m\n\u001b[0;31mSyntaxError\u001b[0m\u001b[0;31m:\u001b[0m invalid syntax\n"
     ]
    }
   ],
   "source": [
    "do work = true\n",
    "if work do:\n",
    "    print('i will do study')\n",
    "else:\n",
    "      print('i will play bgmi')"
   ]
  },
  {
   "cell_type": "code",
   "execution_count": 7,
   "id": "85e5450f-7ddc-456e-8362-108b39d93e7d",
   "metadata": {},
   "outputs": [
    {
     "name": "stdout",
     "output_type": "stream",
     "text": [
      "sumit\n"
     ]
    }
   ],
   "source": [
    "x=1\n",
    "if x>5:\n",
    "    print ('saurabh')\n",
    "else:\n",
    "        print('sumit')"
   ]
  },
  {
   "cell_type": "code",
   "execution_count": 9,
   "id": "65f4fc95-aab6-494f-8323-7e100127064c",
   "metadata": {},
   "outputs": [
    {
     "name": "stdout",
     "output_type": "stream",
     "text": [
      "not allowed\n"
     ]
    }
   ],
   "source": [
    "age=20\n",
    "if age>=23:\n",
    "    print('allowed')\n",
    "else:\n",
    "    print('not allowed')\n"
   ]
  },
  {
   "cell_type": "code",
   "execution_count": 30,
   "id": "ebc3e7a2-c6a8-4923-bf0c-3cdc1523201a",
   "metadata": {},
   "outputs": [
    {
     "name": "stdout",
     "output_type": "stream",
     "text": [
      "odd\n"
     ]
    }
   ],
   "source": [
    "num=10\n",
    "if num/2==6 :\n",
    "    print('even')\n",
    "else:\n",
    "            print('odd')"
   ]
  },
  {
   "cell_type": "code",
   "execution_count": 2,
   "id": "127e54ef-6ed6-4fa1-bc30-5529f6301b1f",
   "metadata": {},
   "outputs": [
    {
     "name": "stdout",
     "output_type": "stream",
     "text": [
      "pass\n"
     ]
    }
   ],
   "source": [
    "score=100\n",
    "if score>33:\n",
    "    print('pass')\n",
    "else:\n",
    "    print('failed')"
   ]
  },
  {
   "cell_type": "code",
   "execution_count": 3,
   "id": "a52a8678-c30b-4bad-ae4b-9e99709f8018",
   "metadata": {},
   "outputs": [
    {
     "ename": "SyntaxError",
     "evalue": "invalid syntax (1474676986.py, line 4)",
     "output_type": "error",
     "traceback": [
      "\u001b[0;36m  Cell \u001b[0;32mIn[3], line 4\u001b[0;36m\u001b[0m\n\u001b[0;31m    elif (60<=score=>79):\u001b[0m\n\u001b[0m                   ^\u001b[0m\n\u001b[0;31mSyntaxError\u001b[0m\u001b[0;31m:\u001b[0m invalid syntax\n"
     ]
    }
   ],
   "source": [
    "score=50\n",
    "if 90>=score:\n",
    "    print('group a')\n",
    "elif (60<=score=>79):\n",
    "      print('group b')\n",
    "else:\n",
    "    print('group c')"
   ]
  },
  {
   "cell_type": "code",
   "execution_count": 2,
   "id": "1fd237c4-a9da-4053-b298-1ac27e0aa75c",
   "metadata": {},
   "outputs": [
    {
     "ename": "SyntaxError",
     "evalue": "invalid syntax (1055658386.py, line 4)",
     "output_type": "error",
     "traceback": [
      "\u001b[0;36m  Cell \u001b[0;32mIn[2], line 4\u001b[0;36m\u001b[0m\n\u001b[0;31m    elif :(score>=60 and score<=79):\u001b[0m\n\u001b[0m         ^\u001b[0m\n\u001b[0;31mSyntaxError\u001b[0m\u001b[0;31m:\u001b[0m invalid syntax\n"
     ]
    }
   ],
   "source": [
    "score=70\n",
    "if 90<=score:\n",
    "    print('group a')\n",
    "elif :(score>=60 and score<=79):  \n",
    "else:\n",
    "    print('group c')\n"
   ]
  },
  {
   "cell_type": "code",
   "execution_count": 20,
   "id": "634637cd-3342-4127-960b-0067a2bb66a5",
   "metadata": {},
   "outputs": [
    {
     "ename": "SyntaxError",
     "evalue": "incomplete input (557163384.py, line 4)",
     "output_type": "error",
     "traceback": [
      "\u001b[0;36m  Cell \u001b[0;32mIn[20], line 4\u001b[0;36m\u001b[0m\n\u001b[0;31m    elif 18<=age<=65:\u001b[0m\n\u001b[0m                     ^\u001b[0m\n\u001b[0;31mSyntaxError\u001b[0m\u001b[0;31m:\u001b[0m incomplete input\n"
     ]
    }
   ],
   "source": [
    "age=25\n",
    "if age<18:\n",
    "     print('group a')\n",
    "elif 18<=age<=65:"
   ]
  },
  {
   "cell_type": "code",
   "execution_count": 19,
   "id": "677e97e6-9e3f-4371-8b8e-fbcd8296539f",
   "metadata": {},
   "outputs": [
    {
     "name": "stdout",
     "output_type": "stream",
     "text": [
      "group e\n"
     ]
    }
   ],
   "source": [
    "age=25\n",
    "if age<18:\n",
    "     print('group a')\n",
    "elif 18>=age<=65:\n",
    "     print('group c')\n",
    "else:\n",
    "     print('group e')"
   ]
  },
  {
   "cell_type": "code",
   "execution_count": 4,
   "id": "bed68f13-9f17-42f6-8f1e-2f0bfff117be",
   "metadata": {},
   "outputs": [
    {
     "name": "stdout",
     "output_type": "stream",
     "text": [
      "a is greater than 100\n"
     ]
    }
   ],
   "source": [
    "a=200\n",
    "if a<100:\n",
    "    print('100 is greater than a')\n",
    "else:\n",
    "    print('a is greater than 100')\n",
    "    \n",
    "    "
   ]
  },
  {
   "cell_type": "code",
   "execution_count": 11,
   "id": "cf2f440e-6257-4853-99b6-f29a8055b2c6",
   "metadata": {},
   "outputs": [
    {
     "name": "stdout",
     "output_type": "stream",
     "text": [
      "i will do study\n"
     ]
    }
   ],
   "source": [
    "weather = ' rainy'\n",
    "if weather == 'rainy':\n",
    "    print('i will not play cricket')\n",
    "else:\n",
    "    print('i will do study')"
   ]
  },
  {
   "cell_type": "code",
   "execution_count": 14,
   "id": "260e072d-d7c2-4773-a21f-08bb1bf1b5ed",
   "metadata": {},
   "outputs": [
    {
     "name": "stdout",
     "output_type": "stream",
     "text": [
      "not adult\n"
     ]
    }
   ],
   "source": [
    "age=18\n",
    "if age >=21:\n",
    "    print('adult')\n",
    "else:\n",
    "     print('not adult')"
   ]
  },
  {
   "cell_type": "code",
   "execution_count": 16,
   "id": "9a1ae373-a843-4298-b80c-86e698d121d8",
   "metadata": {},
   "outputs": [
    {
     "data": {
      "text/plain": [
       "2"
      ]
     },
     "execution_count": 16,
     "metadata": {},
     "output_type": "execute_result"
    }
   ],
   "source": [
    "22 % 5"
   ]
  },
  {
   "cell_type": "code",
   "execution_count": 18,
   "id": "a28693d5-9c11-4c7c-9e47-21036ffd40db",
   "metadata": {},
   "outputs": [
    {
     "name": "stdout",
     "output_type": "stream",
     "text": [
      "odd\n"
     ]
    }
   ],
   "source": [
    "num=9\n",
    "if num % 2==0:\n",
    "     print('even')\n",
    "else:\n",
    "     print('odd')"
   ]
  },
  {
   "cell_type": "code",
   "execution_count": 17,
   "id": "25579f08-f194-4933-a592-829c6e2433aa",
   "metadata": {},
   "outputs": [
    {
     "name": "stdout",
     "output_type": "stream",
     "text": [
      "group a\n"
     ]
    }
   ],
   "source": [
    "score= 100\n",
    "if score>=90:\n",
    "    print('group a')\n",
    "elif (80<=score<=90):\n",
    "    print('group b')\n",
    "else:\n",
    "    print('group c')"
   ]
  },
  {
   "cell_type": "code",
   "execution_count": 6,
   "id": "a498041b-5c36-4b0b-ac1c-9175db4d2b81",
   "metadata": {},
   "outputs": [
    {
     "name": "stdin",
     "output_type": "stream",
     "text": [
      "enter a number -25\n"
     ]
    },
    {
     "name": "stdout",
     "output_type": "stream",
     "text": [
      "group c\n"
     ]
    }
   ],
   "source": [
    "a=int(input('enter a number'))\n",
    "if a>=100:\n",
    "    print('group a')\n",
    "elif 0<a<100:\n",
    "    print('group b')\n",
    "else:\n",
    "    print('group c')"
   ]
  },
  {
   "cell_type": "code",
   "execution_count": 16,
   "id": "40b67ab5-c429-41d6-9b0e-539eb7cc2240",
   "metadata": {},
   "outputs": [
    {
     "name": "stdin",
     "output_type": "stream",
     "text": [
      "enter a name saurabh\n",
      "enter a your email xmaxrealme\n",
      "enter ayour password saurabhll \n"
     ]
    },
    {
     "name": "stdout",
     "output_type": "stream",
     "text": [
      "incorrect email\n"
     ]
    }
   ],
   "source": [
    "name=input('enter a name')\n",
    "email=input('enter a your email')\n",
    "password=input('enter ayour password')\n",
    "\n",
    "if name =='':\n",
    "    print('the name is empty')\n",
    "else:\n",
    "    if '@'not in email:\n",
    "        print('incorrect email')\n",
    "\n",
    "    else:\n",
    "        if len(password)<0:\n",
    "            print('passord in vaild')\n",
    "        else:\n",
    "            print('regestration is succesful')\n",
    "        \n",
    "    \n"
   ]
  },
  {
   "cell_type": "code",
   "execution_count": 21,
   "id": "166181c0-02ec-4eb2-8b06-2167782f14b0",
   "metadata": {},
   "outputs": [
    {
     "name": "stdout",
     "output_type": "stream",
     "text": [
      "1\n",
      "2\n",
      "3\n",
      "4\n",
      "5\n",
      "6\n",
      "sucessful\n"
     ]
    }
   ],
   "source": [
    "n=7\n",
    "i=1\n",
    "while i<n:\n",
    "    print(i)\n",
    "    i=i+1\n",
    "else:\n",
    "    print('sucessful')\n",
    "    "
   ]
  },
  {
   "cell_type": "code",
   "execution_count": 22,
   "id": "a9a2db7a-ffd6-4f73-9cfc-26bc2ce42781",
   "metadata": {},
   "outputs": [
    {
     "name": "stdout",
     "output_type": "stream",
     "text": [
      "1\n",
      "2\n"
     ]
    }
   ],
   "source": [
    "n=7\n",
    "i=1\n",
    "while i<n:\n",
    "    print(i)\n",
    "    i=i+1\n",
    "    if i==3:\n",
    "        break\n",
    "    \n",
    "else:\n",
    "    print('sucessful')\n",
    "    "
   ]
  },
  {
   "cell_type": "code",
   "execution_count": 25,
   "id": "c9d78ac3-5c3e-450a-861a-7fccf9b4c476",
   "metadata": {},
   "outputs": [
    {
     "name": "stdout",
     "output_type": "stream",
     "text": [
      "2\n",
      "4\n",
      "5\n",
      "6\n",
      "7\n",
      "sucessful\n"
     ]
    }
   ],
   "source": [
    "n=7\n",
    "i=1\n",
    "while i<n:\n",
    "    i=i+1\n",
    "    if i==3:\n",
    "        continue\n",
    "    print(i)\n",
    "else:\n",
    "    print('sucessful')\n",
    "    "
   ]
  },
  {
   "cell_type": "code",
   "execution_count": 27,
   "id": "bfb6233f-68d1-4d65-a2d4-39786ee5e901",
   "metadata": {},
   "outputs": [
    {
     "data": {
      "text/plain": [
       "[0, 5, 10, 15, 20, 25, 30, 35, 40, 45, 50, 55, 60, 65, 70, 75, 80, 85, 90, 95]"
      ]
     },
     "execution_count": 27,
     "metadata": {},
     "output_type": "execute_result"
    }
   ],
   "source": [
    "list(range (0,100,5))"
   ]
  },
  {
   "cell_type": "code",
   "execution_count": 30,
   "id": "f0d96ff8-ba78-46ce-9392-f8a0dcf5b4c8",
   "metadata": {},
   "outputs": [
    {
     "name": "stdout",
     "output_type": "stream",
     "text": [
      "0 1 2 3 4 "
     ]
    }
   ],
   "source": [
    "for i in range(5):\n",
    "    print(i,end=' ')"
   ]
  },
  {
   "cell_type": "code",
   "execution_count": 1,
   "id": "279ccc57-1d81-4ad6-8416-afd490389f60",
   "metadata": {},
   "outputs": [],
   "source": [
    "#list is collection of strin,integer,floatand etc\n",
    "#list is mutable\n",
    "\n"
   ]
  },
  {
   "cell_type": "code",
   "execution_count": 12,
   "id": "7362c254-b3cf-4c5b-933f-7d4950d50810",
   "metadata": {},
   "outputs": [],
   "source": [
    "g=[1,2,3,4,5]"
   ]
  },
  {
   "cell_type": "code",
   "execution_count": 13,
   "id": "06427cc1-8f40-4690-8ac4-8ba6c29243e9",
   "metadata": {},
   "outputs": [
    {
     "data": {
      "text/plain": [
       "2"
      ]
     },
     "execution_count": 13,
     "metadata": {},
     "output_type": "execute_result"
    }
   ],
   "source": [
    "g[1]\n",
    "\n"
   ]
  },
  {
   "cell_type": "code",
   "execution_count": 14,
   "id": "f273bf97-fc19-431e-ae90-caedb04a48e2",
   "metadata": {},
   "outputs": [
    {
     "data": {
      "text/plain": [
       "5"
      ]
     },
     "execution_count": 14,
     "metadata": {},
     "output_type": "execute_result"
    }
   ],
   "source": [
    "g[4]"
   ]
  },
  {
   "cell_type": "code",
   "execution_count": 16,
   "id": "2d293420-36c2-4346-928f-bcc8c2a08574",
   "metadata": {},
   "outputs": [],
   "source": [
    "n=[1,5,'sumit',True,'4g']"
   ]
  },
  {
   "cell_type": "code",
   "execution_count": 17,
   "id": "4a94733f-a9c3-4882-8929-91e9920a3331",
   "metadata": {},
   "outputs": [
    {
     "data": {
      "text/plain": [
       "'4g'"
      ]
     },
     "execution_count": 17,
     "metadata": {},
     "output_type": "execute_result"
    }
   ],
   "source": [
    "n[4]"
   ]
  },
  {
   "cell_type": "code",
   "execution_count": 19,
   "id": "0129610d-d228-44ed-b2fd-7f94280c5809",
   "metadata": {},
   "outputs": [
    {
     "data": {
      "text/plain": [
       "'sumit'"
      ]
     },
     "execution_count": 19,
     "metadata": {},
     "output_type": "execute_result"
    }
   ],
   "source": [
    "n[2]"
   ]
  },
  {
   "cell_type": "code",
   "execution_count": 1,
   "id": "9e2b1d0c-b427-4232-910b-bef1296fd0f3",
   "metadata": {},
   "outputs": [
    {
     "ename": "NameError",
     "evalue": "name 'n' is not defined",
     "output_type": "error",
     "traceback": [
      "\u001b[0;31m---------------------------------------------------------------------------\u001b[0m",
      "\u001b[0;31mNameError\u001b[0m                                 Traceback (most recent call last)",
      "Cell \u001b[0;32mIn[1], line 1\u001b[0m\n\u001b[0;32m----> 1\u001b[0m \u001b[43mn\u001b[49m\n",
      "\u001b[0;31mNameError\u001b[0m: name 'n' is not defined"
     ]
    }
   ],
   "source": [
    "n"
   ]
  },
  {
   "cell_type": "code",
   "execution_count": 23,
   "id": "2a0e426a-6f5a-409f-86c9-1fbf1faa1a45",
   "metadata": {},
   "outputs": [],
   "source": [
    "n.append('saurabh')"
   ]
  },
  {
   "cell_type": "code",
   "execution_count": 24,
   "id": "bb5c1941-f7b5-4306-9e63-89f56b101871",
   "metadata": {},
   "outputs": [
    {
     "data": {
      "text/plain": [
       "[1, 5, 'sumit', True, '4g', 'saurabh']"
      ]
     },
     "execution_count": 24,
     "metadata": {},
     "output_type": "execute_result"
    }
   ],
   "source": [
    "n"
   ]
  },
  {
   "cell_type": "code",
   "execution_count": 2,
   "id": "804f1a1b-c699-4c62-98f2-78b5f85ab5c8",
   "metadata": {},
   "outputs": [
    {
     "ename": "NameError",
     "evalue": "name 'n' is not defined",
     "output_type": "error",
     "traceback": [
      "\u001b[0;31m---------------------------------------------------------------------------\u001b[0m",
      "\u001b[0;31mNameError\u001b[0m                                 Traceback (most recent call last)",
      "Cell \u001b[0;32mIn[2], line 1\u001b[0m\n\u001b[0;32m----> 1\u001b[0m \u001b[43mn\u001b[49m\n",
      "\u001b[0;31mNameError\u001b[0m: name 'n' is not defined"
     ]
    }
   ],
   "source": [
    "n"
   ]
  },
  {
   "cell_type": "code",
   "execution_count": 10,
   "id": "5b4ba895-b465-4be8-9fc8-3421987e68a8",
   "metadata": {},
   "outputs": [],
   "source": [
    "lis=[[1,2],[5,6]]"
   ]
  },
  {
   "cell_type": "code",
   "execution_count": 11,
   "id": "5c9b9b73-84d0-431a-93bc-ff5cbfd7c09c",
   "metadata": {},
   "outputs": [
    {
     "data": {
      "text/plain": [
       "[5, 6]"
      ]
     },
     "execution_count": 11,
     "metadata": {},
     "output_type": "execute_result"
    }
   ],
   "source": [
    "lis[1]"
   ]
  },
  {
   "cell_type": "code",
   "execution_count": 12,
   "id": "fdd9797a-f5e3-4ace-8436-e41449d35fb8",
   "metadata": {},
   "outputs": [
    {
     "data": {
      "text/plain": [
       "2"
      ]
     },
     "execution_count": 12,
     "metadata": {},
     "output_type": "execute_result"
    }
   ],
   "source": [
    "lis[0][1]"
   ]
  },
  {
   "cell_type": "code",
   "execution_count": 13,
   "id": "22eb3d19-5a50-420a-b506-629832c7a8d8",
   "metadata": {},
   "outputs": [],
   "source": [
    "hh=(2,3)"
   ]
  },
  {
   "cell_type": "code",
   "execution_count": 14,
   "id": "8993d8bd-bf52-4a23-a58f-d92a873e33e7",
   "metadata": {},
   "outputs": [
    {
     "data": {
      "text/plain": [
       "tuple"
      ]
     },
     "execution_count": 14,
     "metadata": {},
     "output_type": "execute_result"
    }
   ],
   "source": [
    "type(hh)"
   ]
  },
  {
   "cell_type": "code",
   "execution_count": 16,
   "id": "cca656d7-6490-4121-b50e-4f60a5b93bbc",
   "metadata": {},
   "outputs": [],
   "source": [
    "#dictinary\n",
    "phone={'ab':6,'vd':5}"
   ]
  },
  {
   "cell_type": "code",
   "execution_count": 17,
   "id": "89f56039-61f4-44c3-8106-ffc0e9d4261c",
   "metadata": {},
   "outputs": [
    {
     "data": {
      "text/plain": [
       "{'ab': 6, 'vd': 5}"
      ]
     },
     "execution_count": 17,
     "metadata": {},
     "output_type": "execute_result"
    }
   ],
   "source": [
    "phone"
   ]
  },
  {
   "cell_type": "code",
   "execution_count": 1,
   "id": "bfeff23b-47aa-475d-9a15-ca6e7165f6d9",
   "metadata": {},
   "outputs": [
    {
     "data": {
      "text/plain": [
       "98"
      ]
     },
     "execution_count": 1,
     "metadata": {},
     "output_type": "execute_result"
    }
   ],
   "source": [
    "ord('b')"
   ]
  },
  {
   "cell_type": "code",
   "execution_count": 5,
   "id": "2faa9241-528b-4057-9426-ab309baa8ecd",
   "metadata": {},
   "outputs": [
    {
     "name": "stdout",
     "output_type": "stream",
     "text": [
      "not vaild\n"
     ]
    }
   ],
   "source": [
    "email='xmaxrealme425@gmail.com'\n",
    "if '6' in email:\n",
    "    print('vaild')\n",
    "else:\n",
    "    print('not vaild')"
   ]
  },
  {
   "cell_type": "code",
   "execution_count": null,
   "id": "e5e6f5f4-a213-4b05-a043-ad3b1cde669e",
   "metadata": {},
   "outputs": [],
   "source": []
  }
 ],
 "metadata": {
  "kernelspec": {
   "display_name": "Python 3 (ipykernel)",
   "language": "python",
   "name": "python3"
  },
  "language_info": {
   "codemirror_mode": {
    "name": "ipython",
    "version": 3
   },
   "file_extension": ".py",
   "mimetype": "text/x-python",
   "name": "python",
   "nbconvert_exporter": "python",
   "pygments_lexer": "ipython3",
   "version": "3.10.8"
  }
 },
 "nbformat": 4,
 "nbformat_minor": 5
}
